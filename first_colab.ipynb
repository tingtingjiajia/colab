{
  "nbformat": 4,
  "nbformat_minor": 0,
  "metadata": {
    "colab": {
      "private_outputs": true,
      "provenance": [],
      "toc_visible": true,
      "authorship_tag": "ABX9TyNK1FnKCHEj4aFt3ppHASU1",
      "include_colab_link": true
    },
    "kernelspec": {
      "name": "python3",
      "display_name": "Python 3"
    },
    "language_info": {
      "name": "python"
    },
    "accelerator": "GPU",
    "gpuClass": "standard"
  },
  "cells": [
    {
      "cell_type": "markdown",
      "metadata": {
        "id": "view-in-github",
        "colab_type": "text"
      },
      "source": [
        "<a href=\"https://colab.research.google.com/github/tingtingjiajia/colab/blob/main/first_colab.ipynb\" target=\"_parent\"><img src=\"https://colab.research.google.com/assets/colab-badge.svg\" alt=\"Open In Colab\"/></a>"
      ]
    },
    {
      "cell_type": "code",
      "execution_count": null,
      "metadata": {
        "id": "PFCIM5bt2DEs"
      },
      "outputs": [],
      "source": [
        "print('Hello World')"
      ]
    },
    {
      "cell_type": "code",
      "source": [
        "m = 24*60\n",
        "m"
      ],
      "metadata": {
        "id": "jPhVk9xl2fiE"
      },
      "execution_count": null,
      "outputs": []
    },
    {
      "cell_type": "code",
      "source": [
        "import numpy as np\n",
        "from matplotlib import pyplot as plt"
      ],
      "metadata": {
        "id": "90yY5DeD3JXs"
      },
      "execution_count": null,
      "outputs": []
    },
    {
      "cell_type": "code",
      "source": [
        "ys = 180 + np.random.rand(100)\n",
        "x = [x for x in range(len(ys))]"
      ],
      "metadata": {
        "id": "5ZIZulfu6aO7"
      },
      "execution_count": null,
      "outputs": []
    },
    {
      "cell_type": "code",
      "source": [
        "plt.plot(x, ys , '-')\n",
        "plt.fill_between(x, ys, 175, where=(ys > 175), facecolor='y', alpha=0.6)"
      ],
      "metadata": {
        "id": "-JqYNAOo6klx"
      },
      "execution_count": null,
      "outputs": []
    },
    {
      "cell_type": "code",
      "source": [
        "from vega_datasets import data\n",
        "cars = data.cars()\n",
        "\n",
        "import altair as alt\n",
        "\n",
        "interval = alt.selection_interval()\n",
        "\n"
      ],
      "metadata": {
        "id": "M0fg-79C7HUU"
      },
      "execution_count": null,
      "outputs": []
    },
    {
      "cell_type": "code",
      "source": [
        "alt.Chart(cars).mark_point().encode(\n",
        "    x = 'Horsepower',\n",
        "    y = 'Miles_per_Gallon',\n",
        "    color = alt.condition(interval, 'Origin', alt.value('lightgray'))\n",
        ").properties(\n",
        "    selection=interval\n",
        ")"
      ],
      "metadata": {
        "id": "nskE9IgK8H1i"
      },
      "execution_count": null,
      "outputs": []
    },
    {
      "cell_type": "code",
      "source": [
        "from sklearn import datasets, tree, metrics\n",
        "from sklearn.model_selection import train_test_split\n",
        "\n",
        "iris = datasets.load_iris()\n",
        "iris_data = iris.data\n",
        "iris_label = iris.target\n",
        "(train_data, test_data, train_label, test_label) = train_test_split(iris_data, iris_label, test_size =0.2)\n",
        "\n",
        "model = tree.DecisionTreeClassifier()\n",
        "model.fit(train_data, train_label)\n",
        "\n",
        "\n",
        "predicted = model.predict(test_data)\n",
        "print(metrics.accuracy_score(test_label, predicted))\n",
        "tree.plot_tree(model)"
      ],
      "metadata": {
        "id": "gWt-hAZU8UKI"
      },
      "execution_count": null,
      "outputs": []
    },
    {
      "cell_type": "code",
      "source": [],
      "metadata": {
        "id": "jfixtNc3-qqb"
      },
      "execution_count": null,
      "outputs": []
    },
    {
      "cell_type": "markdown",
      "source": [],
      "metadata": {
        "id": "n5iBeBW-HtYz"
      }
    }
  ]
}